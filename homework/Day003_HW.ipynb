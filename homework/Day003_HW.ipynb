#比較一下範例檔案中的「File I/O」與「xmltodict」讀出來的內容有什麼差異
#File I/O:內容為直接將網頁原始檔顯示
#xmltodict:內容為將網頁變成list 型式


#第二題
#1. 請問高雄市有多少地區有溫度資料？
import urllib.request
import zipfile

res = "http://opendata.cwb.gov.tw/govdownload?dataid=F-D0047-093&authorizationkey=rdec-key-123-45678-011121314"
urllib.request.urlretrieve(res, "./data/example.zip")
f = zipfile.ZipFile('./data/example.zip')
f.extractall('./data')

fh = open("./data/64_72hr_CH.xml", mode="r",encoding="utf-8")
xml = fh.read()
fh.close()



import xmltodict
d = dict(xmltodict.parse(xml))

datasetlocations = d['cwbopendata']['dataset']['locations']['location']
print("高雄市有",len(datasetlocations),"個地區有溫度資料")

#2. 請取出每一個地區所記錄的第一個時間點跟溫度

print("======分隔線=======")

for x in range(len(datasetlocations)):
    datasetlocation = d['cwbopendata']['dataset']['locations']['location'][x]['locationName']
    datasettime = d['cwbopendata']['dataset']['locations']['location'][x]['weatherElement'][0]['time'][0]['dataTime']
    datasettemp=d['cwbopendata']['dataset']['locations']['location'][x]['weatherElement'][0]['time'][0]['elementValue']['value']
    print(datasetlocation,datasettime,datasettemp,"度C")


print("======分隔線=======")


#3. 請取出第一個地區所記錄的每一個時間點跟溫度
datalocation = d['cwbopendata']['dataset']['locations']['location'][0]['locationName']
print(datalocation)
datatimes = d['cwbopendata']['dataset']['locations']['location'][0]['weatherElement'][0]['time']

for y in range(len(datatimes)):
    datatimecollect = d['cwbopendata']['dataset']['locations']['location'][0]['weatherElement'][0]['time'][y]['dataTime']
    datatemp = d['cwbopendata']['dataset']['locations']['location'][0]['weatherElement'][0]['time'][y]['elementValue']['value']
    print(datatimecollect,",",datatemp,"度C")


