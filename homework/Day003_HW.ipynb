{
 "cells": [
  {
   "cell_type": "markdown",
   "metadata": {},
   "source": [
    "# Python 下載XML檔案與解析\n",
    "\n",
    "\n",
    "* 了解 xml 檔案格式與內容\n",
    "* 能夠利用套件存取 xml 格式的檔案\n"
   ]
  },
  {
   "cell_type": "markdown",
   "metadata": {},
   "source": [
    "## 作業目標\n",
    "\n",
    "* 比較一下範例檔案中的「File I/O」與「xmltodict」讀出來的內容有什麼差異\n",
    "\n",
    "* 根據範例檔案的結果：\n",
    "    1. 請問高雄市有多少地區有溫度資料？\n",
    "    2. 請取出每一個地區所記錄的第一個時間點跟溫度\n",
    "    3. 請取出第一個地區所記錄的每一個時間點跟溫度"
   ]
  },
  {
   "cell_type": "markdown",
   "metadata": {},
   "source": [
    "### 比較一下範例檔案中的「File I/O」與「xmltodict」讀出來的內容有什麼差異\n"
   ]
  },
  {
   "cell_type": "code",
   "execution_count": null,
   "metadata": {},
   "outputs": [],
   "source": [
    "#File I/O:內容為直接將網頁原始檔顯示\n",
    "#xmltodict:內容為將網頁變成list 型式"
   ]
  },
  {
   "cell_type": "markdown",
   "metadata": {},
   "source": [
    "### 根據範例檔案的結果：\n",
    "\n",
    "1. 請問高雄市有多少地區有溫度資料？\n",
    "2. 請取出每一個地區所記錄的第一個時間點跟溫度\n",
    "3. 請取出第一個地區所記錄的每一個時間點跟溫度"
   ]
  },
  {
   "cell_type": "code",
   "execution_count": 1,
   "metadata": {},
   "outputs": [
    {
     "name": "stdout",
     "output_type": "stream",
     "text": [
      "高雄市有 38 個地區有溫度資料\n"
     ]
    }
   ],
   "source": [
    "# 1. 請問高雄市有多少地區有溫度資料？\n",
    "\n",
    "import urllib.request\n",
    "import zipfile\n",
    "\n",
    "res = \"http://opendata.cwb.gov.tw/govdownload?dataid=F-D0047-093&authorizationkey=rdec-key-123-45678-011121314\"\n",
    "urllib.request.urlretrieve(res, \"./data/example.zip\")\n",
    "f = zipfile.ZipFile('./data/example.zip')\n",
    "f.extractall('./data')\n",
    "\n",
    "fh = open(\"./data/64_72hr_CH.xml\", mode=\"r\",encoding=\"utf-8\")\n",
    "xml = fh.read()\n",
    "fh.close()\n",
    "\n",
    "\n",
    "\n",
    "import xmltodict\n",
    "d = dict(xmltodict.parse(xml))\n",
    "\n",
    "datasetlocations = d['cwbopendata']['dataset']['locations']['location']\n",
    "print(\"高雄市有\",len(datasetlocations),\"個地區有溫度資料\")"
   ]
  },
  {
   "cell_type": "code",
   "execution_count": 4,
   "metadata": {},
   "outputs": [
    {
     "name": "stdout",
     "output_type": "stream",
     "text": [
      "鹽埕區 2019-11-30T12:00:00+08:00 25 度C\n",
      "鼓山區 2019-11-30T12:00:00+08:00 25 度C\n",
      "左營區 2019-11-30T12:00:00+08:00 25 度C\n",
      "楠梓區 2019-11-30T12:00:00+08:00 25 度C\n",
      "三民區 2019-11-30T12:00:00+08:00 25 度C\n",
      "新興區 2019-11-30T12:00:00+08:00 26 度C\n",
      "前金區 2019-11-30T12:00:00+08:00 25 度C\n",
      "苓雅區 2019-11-30T12:00:00+08:00 26 度C\n",
      "前鎮區 2019-11-30T12:00:00+08:00 26 度C\n",
      "旗津區 2019-11-30T12:00:00+08:00 24 度C\n",
      "小港區 2019-11-30T12:00:00+08:00 26 度C\n",
      "鳳山區 2019-11-30T12:00:00+08:00 26 度C\n",
      "林園區 2019-11-30T12:00:00+08:00 26 度C\n",
      "大寮區 2019-11-30T12:00:00+08:00 26 度C\n",
      "大樹區 2019-11-30T12:00:00+08:00 27 度C\n",
      "大社區 2019-11-30T12:00:00+08:00 25 度C\n",
      "仁武區 2019-11-30T12:00:00+08:00 25 度C\n",
      "鳥松區 2019-11-30T12:00:00+08:00 26 度C\n",
      "岡山區 2019-11-30T12:00:00+08:00 26 度C\n",
      "橋頭區 2019-11-30T12:00:00+08:00 26 度C\n",
      "燕巢區 2019-11-30T12:00:00+08:00 26 度C\n",
      "田寮區 2019-11-30T12:00:00+08:00 26 度C\n",
      "阿蓮區 2019-11-30T12:00:00+08:00 26 度C\n",
      "路竹區 2019-11-30T12:00:00+08:00 26 度C\n",
      "湖內區 2019-11-30T12:00:00+08:00 25 度C\n",
      "茄萣區 2019-11-30T12:00:00+08:00 24 度C\n",
      "永安區 2019-11-30T12:00:00+08:00 24 度C\n",
      "彌陀區 2019-11-30T12:00:00+08:00 24 度C\n",
      "梓官區 2019-11-30T12:00:00+08:00 25 度C\n",
      "旗山區 2019-11-30T12:00:00+08:00 26 度C\n",
      "美濃區 2019-11-30T12:00:00+08:00 27 度C\n",
      "六龜區 2019-11-30T12:00:00+08:00 25 度C\n",
      "甲仙區 2019-11-30T12:00:00+08:00 26 度C\n",
      "杉林區 2019-11-30T12:00:00+08:00 28 度C\n",
      "內門區 2019-11-30T12:00:00+08:00 26 度C\n",
      "茂林區 2019-11-30T12:00:00+08:00 26 度C\n",
      "桃源區 2019-11-30T12:00:00+08:00 24 度C\n",
      "那瑪夏區 2019-11-30T12:00:00+08:00 22 度C\n"
     ]
    }
   ],
   "source": [
    "# 2. 請取出每一個地區所記錄的第一個時間點跟溫度\n",
    "\n",
    "for x in range(len(datasetlocations)):\n",
    "    datasetlocation = d['cwbopendata']['dataset']['locations']['location'][x]['locationName']\n",
    "    datasettime = d['cwbopendata']['dataset']['locations']['location'][x]['weatherElement'][0]['time'][0]['dataTime']\n",
    "    datasettemp=d['cwbopendata']['dataset']['locations']['location'][x]['weatherElement'][0]['time'][0]['elementValue']['value']\n",
    "    print(datasetlocation,datasettime,datasettemp,\"度C\")\n"
   ]
  },
  {
   "cell_type": "code",
   "execution_count": 3,
   "metadata": {},
   "outputs": [
    {
     "name": "stdout",
     "output_type": "stream",
     "text": [
      "鹽埕區\n",
      "2019-11-30T12:00:00+08:00 , 25 度C\n",
      "2019-11-30T15:00:00+08:00 , 25 度C\n",
      "2019-11-30T18:00:00+08:00 , 24 度C\n",
      "2019-11-30T21:00:00+08:00 , 22 度C\n",
      "2019-12-01T00:00:00+08:00 , 21 度C\n",
      "2019-12-01T03:00:00+08:00 , 20 度C\n",
      "2019-12-01T06:00:00+08:00 , 20 度C\n",
      "2019-12-01T09:00:00+08:00 , 21 度C\n",
      "2019-12-01T12:00:00+08:00 , 25 度C\n",
      "2019-12-01T15:00:00+08:00 , 25 度C\n",
      "2019-12-01T18:00:00+08:00 , 24 度C\n",
      "2019-12-01T21:00:00+08:00 , 22 度C\n",
      "2019-12-02T00:00:00+08:00 , 20 度C\n",
      "2019-12-02T03:00:00+08:00 , 20 度C\n",
      "2019-12-02T06:00:00+08:00 , 19 度C\n",
      "2019-12-02T09:00:00+08:00 , 21 度C\n",
      "2019-12-02T12:00:00+08:00 , 26 度C\n",
      "2019-12-02T15:00:00+08:00 , 26 度C\n",
      "2019-12-02T18:00:00+08:00 , 23 度C\n",
      "2019-12-02T21:00:00+08:00 , 20 度C\n",
      "2019-12-03T00:00:00+08:00 , 18 度C\n",
      "2019-12-03T03:00:00+08:00 , 17 度C\n",
      "2019-12-03T06:00:00+08:00 , 16 度C\n",
      "2019-12-03T09:00:00+08:00 , 18 度C\n"
     ]
    }
   ],
   "source": [
    "# 3. 請取出第一個地區所記錄的每一個時間點跟溫度\n",
    "\n",
    "datalocation = d['cwbopendata']['dataset']['locations']['location'][0]['locationName']\n",
    "print(datalocation)\n",
    "datatimes = d['cwbopendata']['dataset']['locations']['location'][0]['weatherElement'][0]['time']\n",
    "\n",
    "for y in range(len(datatimes)):\n",
    "    datatimecollect = d['cwbopendata']['dataset']['locations']['location'][0]['weatherElement'][0]['time'][y]['dataTime']\n",
    "    datatemp = d['cwbopendata']['dataset']['locations']['location'][0]['weatherElement'][0]['time'][y]['elementValue']['value']\n",
    "    print(datatimecollect,\",\",datatemp,\"度C\")"
   ]
  },
  {
   "cell_type": "code",
   "execution_count": null,
   "metadata": {},
   "outputs": [],
   "source": []
  }
 ],
 "metadata": {
  "kernelspec": {
   "display_name": "Python 3",
   "language": "python",
   "name": "python3"
  },
  "language_info": {
   "codemirror_mode": {
    "name": "ipython",
    "version": 3
   },
   "file_extension": ".py",
   "mimetype": "text/x-python",
   "name": "python",
   "nbconvert_exporter": "python",
   "pygments_lexer": "ipython3",
   "version": "3.7.4"
  }
 },
 "nbformat": 4,
 "nbformat_minor": 2
}
