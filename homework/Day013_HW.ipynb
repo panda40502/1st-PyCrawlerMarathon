{
 "cells": [
  {
   "cell_type": "markdown",
   "metadata": {},
   "source": [
    "# PTT 網路爬蟲實作練習\n",
    "\n",
    "\n",
    "* 能夠利用 Request + BeatifulSour 撰寫爬蟲，並存放到合適的資料結構\n"
   ]
  },
  {
   "cell_type": "markdown",
   "metadata": {},
   "source": [
    "## 作業目標\n",
    "\n",
    "根據範例 ，完成以下問題：\n",
    "\n",
    "* ① 印出最新文章的「作者」「標題」「時間」\n",
    "* ② 印出第一頁所有文章的「作者」「標題」「時間」\n"
   ]
  },
  {
   "cell_type": "markdown",
   "metadata": {},
   "source": [
    "### ① 印出最新文章的「作者」「標題」「時間」"
   ]
  },
  {
   "cell_type": "code",
   "execution_count": 66,
   "metadata": {
    "scrolled": false
   },
   "outputs": [
    {
     "name": "stdout",
     "output_type": "stream",
     "text": [
      "[花邊] Beverley關鍵火鍋後比劃詹姆斯的動作\n",
      "作者: PttGod 時間: 12/26\n"
     ]
    }
   ],
   "source": [
    "import requests\n",
    "from bs4 import BeautifulSoup\n",
    "\n",
    "url = 'https://www.ptt.cc/bbs/NBA/index.html'\n",
    "r = requests.get(url)\n",
    "\n",
    "soup = BeautifulSoup(r.text, \"html5lib\")\n",
    "\n",
    "result=soup.find(\"div\",class_=\"r-ent\")\n",
    "print(result.find(\"div\",class_=\"title\").text.replace('\\t', '').replace('\\n', ''))\n",
    "print(\"作者:\",result.find(class_=\"author\").text,\"時間:\",result.find(class_=\"date\").text)"
   ]
  },
  {
   "cell_type": "markdown",
   "metadata": {},
   "source": [
    "### ② 印出第一頁所有文章的「作者」「標題」「時間」"
   ]
  },
  {
   "cell_type": "code",
   "execution_count": 67,
   "metadata": {},
   "outputs": [
    {
     "name": "stdout",
     "output_type": "stream",
     "text": [
      "[花邊] Beverley關鍵火鍋後比劃詹姆斯的動作\n",
      "作者: PttGod 時間: 12/26\n",
      "[討論] Kawhi Leonard 隊友陣容\n",
      "作者: Kenshin0707 時間: 12/26\n",
      "[情報] Paul George：Beverley對球隊太重要了\n",
      "作者: PttGod 時間: 12/26\n",
      "[討論] 天空貝是不是超適合湖人\n",
      "作者: k300plus 時間: 12/26\n",
      "[情報] ★今日排名(2019.12.26)★\n",
      "作者: Rambo 時間: 12/26\n",
      "[新聞] 威特斯回頭是岸 球評稱加入湖人是天作之\n",
      "作者: PttGod 時間: 12/26\n",
      "(本文已被刪除) [chicktap]\n",
      "作者: - 時間: 12/26\n",
      "[花邊] 超級老爸詹皇發聲 挺5歲小女兒當YouTuber\n",
      "作者: thnlkj0665 時間: 12/26\n",
      "[花邊] CBA》林書豪收服中國球迷！ 明星賽票選\n",
      "作者: playourole 時間: 12/26\n",
      "Re: [外絮] PG:西決基本上已經確定是湖人跟快艇\n",
      "作者: dragon803 時間: 12/26\n",
      "Re: [討論] 湖人的陣容是不是註定輸給快艇\n",
      "作者: ctrl 時間: 12/26\n",
      "[新聞] 雙眼感染險失明 硬漢史馬特差點崩潰\n",
      "作者: Gotham 時間: 12/26\n",
      "(已被Vedan刪除) <hjimmmy>1-1 1-2\n",
      "作者: - 時間: 12/26\n",
      "(本文已被刪除) [king114206]\n",
      "作者: - 時間: 12/26\n",
      "[情報] Celtics為全聯盟唯一球隊三球員場均20+\n",
      "作者: melman87 時間: 12/27\n",
      "[公告] 板規v6.7\n",
      "作者: Vedan 時間:  5/24\n",
      "[公告] 樂透取消及未來不再開啟樂透\n",
      "作者: Vedan 時間:  6/24\n",
      "[公告] 版主上任相關事項 \n",
      "作者: qazwsx879345 時間: 10/25\n",
      "[情報] SEASON Schedule 賽程 December 19–20\n",
      "作者: JerroLi 時間: 11/29\n"
     ]
    }
   ],
   "source": [
    "for d in soup.find_all(\"div\",class_=\"r-ent\"):\n",
    "    print(d.find(class_=\"title\").text.replace('\\t', '').replace('\\n', ''))\n",
    "    print(\"作者:\",d.find(class_=\"author\").text,\"時間:\",d.find(class_=\"date\").text)"
   ]
  },
  {
   "cell_type": "markdown",
   "metadata": {},
   "source": [
    "### ③ 試著爬爬看其他版的文章"
   ]
  },
  {
   "cell_type": "code",
   "execution_count": 69,
   "metadata": {},
   "outputs": [
    {
     "name": "stdout",
     "output_type": "stream",
     "text": [
      "[新聞] 《鋼鐵股》中鴻1月內銷盤價開高，中止跌\n",
      "作者: wade6510 時間: 12/26\n"
     ]
    }
   ],
   "source": [
    "ur2 = 'https://www.ptt.cc/bbs/Stock/index.html'\n",
    "r2 = requests.get(ur2)\n",
    "\n",
    "soup2 = BeautifulSoup(r2.text, \"html5lib\")\n",
    "\n",
    "result2=soup2.find(\"div\",class_=\"r-ent\")\n",
    "print(result2.find(\"div\",class_=\"title\").text.replace('\\t', '').replace('\\n', ''))\n",
    "print(\"作者:\",result2.find(class_=\"author\").text,\"時間:\",result2.find(class_=\"date\").text)\n"
   ]
  },
  {
   "cell_type": "code",
   "execution_count": 70,
   "metadata": {},
   "outputs": [
    {
     "name": "stdout",
     "output_type": "stream",
     "text": [
      "[新聞] 《鋼鐵股》中鴻1月內銷盤價開高，中止跌\n",
      "作者: wade6510 時間: 12/26\n",
      "[新聞] 晶電證實與中國廠利亞德洽談，擬成立合\n",
      "作者: drmit 時間: 12/26\n",
      "Re: [標的] 亞光 緩緩多\n",
      "作者: fantasy14 時間: 12/26\n",
      "[新聞] 5G競標金衝上700億元 NCC呼籲電信業者理\n",
      "作者: Tox 時間: 12/26\n",
      "[新聞] 公開收購仲琦科技 收購條件均已成就\n",
      "作者: hijacker 時間: 12/26\n",
      "[標的] 4743合一 (明天公司自辦法說會)\n",
      "作者: loveyachi 時間: 12/26\n",
      "[標的] 6488環球晶\n",
      "作者: sai999 時間: 12/26\n",
      "[新聞] 同欣電、勝麗重大訊息待公布 明日暫停交\n",
      "作者: liishinhaur 時間: 12/26\n",
      "[標的] 道瓊03(UDH0)\n",
      "作者: hito21 時間: 12/26\n",
      "[其他] 做股票之人必去的景點？\n",
      "作者: joyca 時間: 12/26\n",
      "Re: [標的] 4743合一 (明天公司自辦法說會)\n",
      "作者: dodobaho 時間: 12/26\n",
      "[請益] 如何東山再起?\n",
      "作者: futureroad99 時間: 12/26\n",
      "[新聞] 華為獲中國政府750億美元補貼\n",
      "作者: Su22 時間: 12/26\n",
      "[新聞] 聯徵信用重大突破！車籍、勞保、繳稅資\n",
      "作者: z520314 時間: 12/26\n",
      "Re: [請益] 求教抽股票的一個數學問題\n",
      "作者: a181w 時間: 12/26\n",
      "[請益] 香港的毫股、仙股、老千股是指什麼？\n",
      "作者: RBTMLhiy 時間: 12/26\n",
      "[請益] 懇請推薦「籌碼分析」相關APP？\n",
      "作者: RBTMLhiy 時間: 12/26\n",
      "[公告] 精華區導覽Q&A\n",
      "作者: IanLi 時間:  1/25\n",
      "[公告] Stock 板規V2.6             (2019/06/20)\n",
      "作者: eyespot 時間: 11/03\n",
      "[閒聊] 2019/12/26 盤後閒聊\n",
      "作者: gn01765288 時間: 12/26\n"
     ]
    }
   ],
   "source": [
    "for k in soup2.find_all(\"div\",class_=\"r-ent\"):\n",
    "    print(k.find(class_=\"title\").text.replace('\\t', '').replace('\\n', ''))\n",
    "    print(\"作者:\",k.find(class_=\"author\").text,\"時間:\",k.find(class_=\"date\").text)"
   ]
  },
  {
   "cell_type": "code",
   "execution_count": null,
   "metadata": {},
   "outputs": [],
   "source": []
  }
 ],
 "metadata": {
  "kernelspec": {
   "display_name": "Python 3",
   "language": "python",
   "name": "python3"
  },
  "language_info": {
   "codemirror_mode": {
    "name": "ipython",
    "version": 3
   },
   "file_extension": ".py",
   "mimetype": "text/x-python",
   "name": "python",
   "nbconvert_exporter": "python",
   "pygments_lexer": "ipython3",
   "version": "3.7.4"
  }
 },
 "nbformat": 4,
 "nbformat_minor": 2
}
