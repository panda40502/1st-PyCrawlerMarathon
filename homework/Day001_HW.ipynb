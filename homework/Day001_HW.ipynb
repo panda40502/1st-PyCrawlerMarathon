#1.（簡答題）檔案、API、爬蟲三種取得資料方式有什麼不同？
#檔案:資料會包成檔案提供下載，格式可能包含常用的標準格式，例如「CSV」、「JSON」等等通用的格式。
#開放接口（API:提供程式化的連接的接口，讓工程師/分析師可以選擇資料中要讀取的特定部分，而不需要把整批資料事先完整下載回來
#網頁爬蟲:資料沒有以檔案或 API 提供，但出現在網頁上。可以利用爬蟲爬蟲程式，將網頁的資料解析所需的部分。


#2.（實作）完成一個程式，需滿足下列需求：

#下載指定檔案到 Data 資料夾，存成檔名 Homework.txt
import os

imange_url="https://www.w3.org/TR/PNG/iso_8859-1.txt"
from urllib.request import urlretrieve

try:
    os.makedirs("./data/", exist_ok=True)
    urlretrieve(imange_url,"./data/Homework.txt")
except:
    print("發生錯誤")

#檢查 Data 資料夾是否有 Homework.txt 檔名之檔案

dirs = os.listdir( "./data/" )

for file in dirs:
    if "Homework.txt"==file:
        print("[O]有Homework.txt檔名")
    else:
        print("[x]沒有Homework.txt檔名")

#將「Hello World」字串覆寫到 Homework.txt 檔案

with open("./data/Homework.txt", mode="w") as homefile:
        homefile.write("Hello World")

#檢查 Homework.txt 檔案字數是否符合 Hello World 字數
with open("./data/Homework.txt", mode="r") as homefile:
    homedata=homefile.read()
if len("Hello World") == len(homedata):
    print("[O]與Hello World字數相同")
else:
    print("[X]與Hello World字數不同")