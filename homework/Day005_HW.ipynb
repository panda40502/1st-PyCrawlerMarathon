{
 "cells": [
  {
   "cell_type": "markdown",
   "metadata": {},
   "source": [
    "# API 資料串接 - 以 Dcard API 實作範例\n",
    "\n",
    "* 利用 urllib 套件的 urlretrieve 方法下載檔案\n",
    "* 了解 Python File I/O 讀檔、寫檔的用法\n",
    "* 能用運用資源管理器 With Statement 優化寫法"
   ]
  },
  {
   "cell_type": "markdown",
   "metadata": {},
   "source": [
    "## 作業目標\n",
    "\n",
    "* 請利用 API: https://www.dcard.tw/_api/forums/pet/posts?popular=true 回答下列問題：\n",
    "\n",
    "1. 這個 API 一次會回傳幾筆資料？每一筆資料包含哪些欄位？\n",
    "2. 取出每一筆資料的「標題」、「貼文時間」、「留言人數」、「按讚人數」\n",
    "3. 計算熱門/非熱門文章的「平均留言人數」與「平均按讚人數」"
   ]
  },
  {
   "cell_type": "code",
   "execution_count": 33,
   "metadata": {},
   "outputs": [
    {
     "name": "stdout",
     "output_type": "stream",
     "text": [
      "一次會回傳 30 筆資料\n",
      "每一筆資料共 33 欄位,欄位名稱如下:\n",
      "id\n",
      "title\n",
      "excerpt\n",
      "anonymousSchool\n",
      "anonymousDepartment\n",
      "pinned\n",
      "forumId\n",
      "replyId\n",
      "createdAt\n",
      "updatedAt\n",
      "commentCount\n",
      "likeCount\n",
      "withNickname\n",
      "tags\n",
      "topics\n",
      "meta\n",
      "forumName\n",
      "forumAlias\n",
      "gender\n",
      "school\n",
      "department\n",
      "replyTitle\n",
      "mediaMeta\n",
      "reactions\n",
      "hidden\n",
      "customStyle\n",
      "isSuspiciousAccount\n",
      "layout\n",
      "withImages\n",
      "withVideos\n",
      "media\n",
      "reportReasonText\n",
      "postAvatar\n"
     ]
    }
   ],
   "source": [
    "import requests\n",
    "\n",
    "r = requests.get(\"https://www.dcard.tw/_api/forums/pet/posts?popular=true\")\n",
    "response = r.text\n",
    "#print(response)\n",
    "\n",
    "import json\n",
    "\n",
    "data = json.loads(response)\n",
    "\n",
    "\n",
    "# 1. 這個 API 一次會回傳幾筆資料？每一筆資料包含哪些欄位？\n",
    "\n",
    "print(\"一次會回傳\",len(data),\"筆資料\")\n",
    "print(\"每一筆資料共\",len(data[0]),\"欄位,欄位名稱如下:\")\n",
    "               \n",
    "columnvalue=data[0].keys()\n",
    "\n",
    "for d in columnvalue:\n",
    "    print(d)\n"
   ]
  },
  {
   "cell_type": "code",
   "execution_count": 38,
   "metadata": {},
   "outputs": [
    {
     "name": "stdout",
     "output_type": "stream",
     "text": [
      "標題: #更。不要被薩摩耶給騙了！ 貼文時間: 2019-11-29T00:25:38.826Z 留言人數: 136 按讚人數: 8351\n",
      "標題: #貓 #圖 我懷疑我家貓咪根本不覺得自己是貓咪 貼文時間: 2019-11-29T15:01:23.745Z 留言人數: 10 按讚人數: 290\n",
      "標題: 🐰誰說兔子不能碰水！兔子❤️海灘 貼文時間: 2019-11-29T07:34:46.328Z 留言人數: 17 按讚人數: 271\n",
      "標題: 找回失蹤狗狗😭 原來妳也在找我們 貼文時間: 2019-11-29T22:33:34.440Z 留言人數: 12 按讚人數: 192\n",
      "標題: 高以翔的療癒系狗狗theo 貼文時間: 2019-11-29T13:52:33.150Z 留言人數: 2 按讚人數: 147\n",
      "標題: 吸貓治百病 貼文時間: 2019-11-29T06:53:05.300Z 留言人數: 5 按讚人數: 104\n",
      "標題: 就是你！！！我的菜！！！ 貼文時間: 2019-11-29T03:10:51.060Z 留言人數: 0 按讚人數: 43\n",
      "標題: 有愛的假兄弟 貼文時間: 2019-11-29T04:09:24.480Z 留言人數: 0 按讚人數: 33\n",
      "標題: 我家柴犬一系列照片 貼文時間: 2019-11-29T05:02:04.820Z 留言人數: 3 按讚人數: 30\n",
      "標題: 囤貓囤起來😻/圖多文長 貼文時間: 2019-11-29T03:41:19.070Z 留言人數: 3 按讚人數: 22\n",
      "標題: 限動裡的小三線們 貼文時間: 2019-11-29T04:00:40.448Z 留言人數: 4 按讚人數: 16\n",
      "標題: 貓男友的拍照技術 貼文時間: 2019-11-29T13:28:45.211Z 留言人數: 2 按讚人數: 14\n",
      "標題: 免費寵物溝通 貼文時間: 2019-11-29T11:58:23.732Z 留言人數: 17 按讚人數: 13\n",
      "標題: 有貓快拜！！ 貼文時間: 2019-11-30T03:07:22.599Z 留言人數: 0 按讚人數: 12\n",
      "標題: 虎斑狗想找寵物溝通師 貼文時間: 2019-11-29T15:22:07.842Z 留言人數: 2 按讚人數: 12\n",
      "標題: 求助！剛接回家的小貓生病了嗎 貼文時間: 2019-11-29T13:35:26.621Z 留言人數: 3 按讚人數: 12\n",
      "標題: 威~柯基你母湯喔 貼文時間: 2019-11-29T09:44:50.199Z 留言人數: 0 按讚人數: 12\n",
      "標題: 躲起來睡覺的喵咪 貼文時間: 2019-11-29T11:53:20.503Z 留言人數: 0 按讚人數: 11\n",
      "標題: 圖 厭世貓化石梗圖 貼文時間: 2019-11-29T13:38:15.413Z 留言人數: 1 按讚人數: 10\n",
      "標題: 限動滿滿的老鼠是怎樣 貼文時間: 2019-11-29T09:05:18.406Z 留言人數: 19 按讚人數: 10\n",
      "標題: 自己的主子最可愛 貼文時間: 2019-11-29T05:09:30.489Z 留言人數: 1 按讚人數: 10\n",
      "標題: 被擠床原來是一件幸福的事 貼文時間: 2019-11-30T04:15:42.699Z 留言人數: 2 按讚人數: 9\n",
      "標題: 貓咪走失了😭😭台中，水湳 貼文時間: 2019-11-29T12:46:13.912Z 留言人數: 0 按讚人數: 9\n",
      "標題: 台北中正區臨沂街 馬爾濟斯走丟 貼文時間: 2019-11-29T10:05:26.773Z 留言人數: 4 按讚人數: 9\n",
      "標題: 鳥 貼文時間: 2019-11-29T09:55:59.346Z 留言人數: 11 按讚人數: 9\n",
      "標題: 有人要吸兔嗎？ 貼文時間: 2019-11-30T04:58:10.195Z 留言人數: 4 按讚人數: 8\n",
      "標題: 6個月小布偶貓 放臭屁 貼文時間: 2019-11-29T15:56:00.789Z 留言人數: 6 按讚人數: 8\n",
      "標題: 就只知道睡 貼文時間: 2019-11-29T12:25:50.680Z 留言人數: 2 按讚人數: 8\n",
      "標題: 從可愛的小寶寶變成破壞王 貼文時間: 2019-11-29T06:52:19.590Z 留言人數: 4 按讚人數: 8\n",
      "標題: #柴 #影片 到底有多討厭洗澡 貼文時間: 2019-11-30T03:24:55.897Z 留言人數: 0 按讚人數: 7\n"
     ]
    }
   ],
   "source": [
    "# 2. 取出每一筆資料的「標題」、「貼文時間」、「留言人數」、「按讚人數」\n",
    "\n",
    "for k in range(len(data)):\n",
    "    print(\"標題:\",data[k][\"title\"],\"貼文時間:\",data[k][\"createdAt\"],\"留言人數:\",data[k][\"commentCount\"],\"按讚人數:\",data[k][\"likeCount\"])\n"
   ]
  },
  {
   "cell_type": "code",
   "execution_count": 48,
   "metadata": {},
   "outputs": [
    {
     "name": "stdout",
     "output_type": "stream",
     "text": [
      "熱門文章平均留言人數: 9 平均按讚人數: 323\n",
      "非熱門文章平均留言人數: 2 平均按讚人數: 30\n"
     ]
    }
   ],
   "source": [
    "# 3. 計算熱門/非熱門文章的「平均留言人數」與「平均按讚人數」\n",
    "\n",
    "hotcommentsum=0\n",
    "hotlike=0\n",
    "\n",
    "nothotcommentsum=0\n",
    "nothotlike=0\n",
    "\n",
    "for k in range(len(data)):\n",
    "    hotcommentsum=hotcommentsum+int(data[k][\"commentCount\"])\n",
    "    \n",
    "for k in range(len(data)):\n",
    "    hotlike=hotlike+int(data[k][\"likeCount\"])\n",
    "    \n",
    "print(\"熱門文章平均留言人數:\",int(hotcommentsum/len(data)),\"平均按讚人數:\",int(hotlike/len(data)))\n",
    "\n",
    "\n",
    "i = requests.get(\"https://www.dcard.tw/_api/forums/pet/posts?popular=false\")\n",
    "response1 = i.text\n",
    "data1 = json.loads(response1)\n",
    "\n",
    "for k in range(len(data1)):\n",
    "    nothotcommentsum=nothotcommentsum+int(data1[k][\"commentCount\"])\n",
    "    \n",
    "for k in range(len(data1)):\n",
    "    nothotlike=nothotlike+int(data1[k][\"likeCount\"])\n",
    "    \n",
    "print(\"非熱門文章平均留言人數:\",int(nothotcommentsum/len(data1)),\"平均按讚人數:\",int(nothotlike/len(data1)))    \n"
   ]
  },
  {
   "cell_type": "code",
   "execution_count": null,
   "metadata": {},
   "outputs": [],
   "source": []
  },
  {
   "cell_type": "code",
   "execution_count": null,
   "metadata": {},
   "outputs": [],
   "source": []
  }
 ],
 "metadata": {
  "kernelspec": {
   "display_name": "Python 3",
   "language": "python",
   "name": "python3"
  },
  "language_info": {
   "codemirror_mode": {
    "name": "ipython",
    "version": 3
   },
   "file_extension": ".py",
   "mimetype": "text/x-python",
   "name": "python",
   "nbconvert_exporter": "python",
   "pygments_lexer": "ipython3",
   "version": "3.7.4"
  }
 },
 "nbformat": 4,
 "nbformat_minor": 2
}
