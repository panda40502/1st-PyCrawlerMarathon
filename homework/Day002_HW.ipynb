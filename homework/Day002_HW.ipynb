#比較一下範例檔案中的「File I/O」與「CSV Reader」讀出來的內容有什麼差異
#File I/O:print out 型式與example.csv 一樣
#CSV Reader:將examplie.csv 內容變成list型式,print out

from urllib.request import urlretrieve
res = "http://opendata.hccg.gov.tw/dataset/432257df-491f-4875-8b56-dd814aee5d7b/resource/de014c8b-9b75-4152-9fc6-f0d499cefbe4/download/20150305140446074.csv"
urlretrieve(res, "./data/example.csv")

import os, sys, json

dirs = os.listdir( "./data/" )

for file in dirs:
    if "example.csv"== file:
        print("[o]有example.csv 檔案")
    else:
        print("[x]沒有example.csv 檔案")

import csv

#取出班次一的每一個時間
with open("./data/example.csv",mode="r",encoding="utf-8") as csvfile:
    rows = csv.reader(csvfile)
    for row in rows:
        time1=row[5]
        print(time1)


#將班次一的每一個時間用一種資料型態保存
steptime={}
listtime=[]

with open("./data/example.csv",mode="r",encoding="utf-8") as csvfile:
    rows = csv.reader(csvfile)
    for row in rows:
        if row[5]=="班次1":
            steptime[row[5]]=listtime
        else:
            listtime=listtime+[row[5]]
steptime["班次1"]=listtime
print("=========分隔線==========")
print(steptime)

#將班次一到五與其所有時間用一種資料型態個別保存

steptime1={}
listtime1=[]

for a in range(5,10):
    with open("./data/example.csv",mode="r",encoding="utf-8") as csvfile:
        rows = csv.reader(csvfile)
        for row in rows:
            if row[a]=="班次"+str(a-4):
                steptime1[row[a]]=listtime1
            else:
                listtime1=listtime1+[row[a]]       
    steptime1["班次"+str(a-4)]=listtime1
    listtime1=[]

print("=========分隔線==========")
print(steptime1)
